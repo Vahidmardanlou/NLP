{
 "cells": [
  {
   "cell_type": "markdown",
   "metadata": {},
   "source": [
    "# Data analysis exercise\n",
    "\n",
    "## Vahid Mardanlou\n"
   ]
  },
  {
   "cell_type": "markdown",
   "metadata": {},
   "source": [
    "Here I load the jsonl file. In the data, the \"u\" indicates that the types are unicode. "
   ]
  },
  {
   "cell_type": "code",
   "execution_count": 2,
   "metadata": {
    "collapsed": false
   },
   "outputs": [],
   "source": [
    "import json\n",
    "\n",
    "data = []\n",
    "with open('ida_wrangling_exercise_data.2017-02-13.jsonl') as jsonfile:\n",
    "    for line in jsonfile:\n",
    "        data.append(json.loads(line))\n",
    "        \n",
    "# Check also json.dumps(json.loads(line))  >>> It gives string format\n",
    "# Check also json.dumps(d)"
   ]
  },
  {
   "cell_type": "markdown",
   "metadata": {},
   "source": [
    "I wanted to see how each line looks like."
   ]
  },
  {
   "cell_type": "code",
   "execution_count": 3,
   "metadata": {
    "collapsed": false
   },
   "outputs": [
    {
     "data": {
      "text/plain": [
       "{u'address': u'20722 Coleman Villages\\nEast Rose, SC 71064-5894',\n",
       " u'dob': u'1965-09-09',\n",
       " u'email': u'sperez@armstrong.com',\n",
       " u'id': u'876ff718291d4397bb1e0477ceee6ad9',\n",
       " u'name': {u'firstname': u'Tamara', u'lastname': u'Myers'},\n",
       " u'phone': u'1-594-462-7759',\n",
       " u'record_date': u'2009-03-28T20:22:57',\n",
       " u'ssn': u'xxx-xx-8025'}"
      ]
     },
     "execution_count": 3,
     "metadata": {},
     "output_type": "execute_result"
    }
   ],
   "source": [
    "data[1]"
   ]
  },
  {
   "cell_type": "code",
   "execution_count": 4,
   "metadata": {
    "collapsed": false
   },
   "outputs": [
    {
     "data": {
      "text/plain": [
       "list"
      ]
     },
     "execution_count": 4,
     "metadata": {},
     "output_type": "execute_result"
    }
   ],
   "source": [
    "type(data)"
   ]
  },
  {
   "cell_type": "markdown",
   "metadata": {},
   "source": [
    "The values of each line could be string or dictionary."
   ]
  },
  {
   "cell_type": "code",
   "execution_count": 5,
   "metadata": {
    "collapsed": false
   },
   "outputs": [
    {
     "data": {
      "text/plain": [
       "[{u'firstname': u'Tamara', u'lastname': u'Myers'},\n",
       " u'1965-09-09',\n",
       " u'sperez@armstrong.com',\n",
       " u'1-594-462-7759',\n",
       " u'xxx-xx-8025',\n",
       " u'2009-03-28T20:22:57',\n",
       " u'20722 Coleman Villages\\nEast Rose, SC 71064-5894',\n",
       " u'876ff718291d4397bb1e0477ceee6ad9']"
      ]
     },
     "execution_count": 5,
     "metadata": {},
     "output_type": "execute_result"
    }
   ],
   "source": [
    "data[1].values()"
   ]
  },
  {
   "cell_type": "code",
   "execution_count": 6,
   "metadata": {
    "collapsed": false
   },
   "outputs": [
    {
     "data": {
      "text/plain": [
       "[u'lastname', u'firstname']"
      ]
     },
     "execution_count": 6,
     "metadata": {},
     "output_type": "execute_result"
    }
   ],
   "source": [
    "data[1]['name'].keys()"
   ]
  },
  {
   "cell_type": "markdown",
   "metadata": {},
   "source": [
    "Getting the keys for one of the data sets."
   ]
  },
  {
   "cell_type": "code",
   "execution_count": 7,
   "metadata": {
    "collapsed": false
   },
   "outputs": [
    {
     "data": {
      "text/plain": [
       "[u'name',\n",
       " u'dob',\n",
       " u'email',\n",
       " u'phone',\n",
       " u'ssn',\n",
       " u'record_date',\n",
       " u'address',\n",
       " u'id']"
      ]
     },
     "execution_count": 7,
     "metadata": {},
     "output_type": "execute_result"
    }
   ],
   "source": [
    "data[1].keys()"
   ]
  },
  {
   "cell_type": "code",
   "execution_count": 8,
   "metadata": {
    "collapsed": false
   },
   "outputs": [
    {
     "data": {
      "text/plain": [
       "unicode"
      ]
     },
     "execution_count": 8,
     "metadata": {},
     "output_type": "execute_result"
    }
   ],
   "source": [
    "type(data[1][u'id'])  # unicode doesn't have keys"
   ]
  },
  {
   "cell_type": "markdown",
   "metadata": {},
   "source": [
    "The total number of lines are as follow,"
   ]
  },
  {
   "cell_type": "code",
   "execution_count": 9,
   "metadata": {
    "collapsed": false
   },
   "outputs": [
    {
     "data": {
      "text/plain": [
       "150000"
      ]
     },
     "execution_count": 9,
     "metadata": {},
     "output_type": "execute_result"
    }
   ],
   "source": [
    "len(data)"
   ]
  },
  {
   "cell_type": "markdown",
   "metadata": {},
   "source": [
    "# Question 1 and 2"
   ]
  },
  {
   "cell_type": "markdown",
   "metadata": {},
   "source": [
    "I defined the \"printkeys\" function in which it is a recursive function and try finding dictionaries as values of the keys of previous dictionary. "
   ]
  },
  {
   "cell_type": "code",
   "execution_count": 14,
   "metadata": {
    "collapsed": false
   },
   "outputs": [],
   "source": [
    "def printkeys(Dictionary,Root,List_new):\n",
    "    if type(Dictionary) == type(dict()):\n",
    "        A_keys = Dictionary.keys()\n",
    "        for k in A_keys:\n",
    "            if Root != '':\n",
    "                printkeys(Dictionary[k],str(Root + '.' + k),List_new)  \n",
    "            else:\n",
    "                printkeys(Dictionary[k],str(k),List_new)  \n",
    "    else:\n",
    "        # print Root\n",
    "        return List_new.append(Root)\n"
   ]
  },
  {
   "cell_type": "markdown",
   "metadata": {},
   "source": [
    "I used the above function to find the fields for each lines of data."
   ]
  },
  {
   "cell_type": "code",
   "execution_count": 15,
   "metadata": {
    "collapsed": false
   },
   "outputs": [],
   "source": [
    "List_new =[]\n",
    "for line in data:\n",
    "    printkeys(line,'',List_new)"
   ]
  },
  {
   "cell_type": "markdown",
   "metadata": {},
   "source": [
    "Using the collections module, i imported the Counter command to find the distinct elements along the number of repetitions for each of them. The following code gives the fields and the corresponding frequency. It will be saved in a dictionary format."
   ]
  },
  {
   "cell_type": "code",
   "execution_count": 16,
   "metadata": {
    "collapsed": false
   },
   "outputs": [
    {
     "data": {
      "text/plain": [
       "Counter({'address': 75193,\n",
       "         'address.city': 61233,\n",
       "         'address.state': 61233,\n",
       "         'address.street': 61233,\n",
       "         'address.zip': 61233,\n",
       "         'dob': 143874,\n",
       "         'email': 130880,\n",
       "         'id': 150000,\n",
       "         'name': 43058,\n",
       "         'name.firstname': 105004,\n",
       "         'name.lastname': 105004,\n",
       "         'name.middlename': 43669,\n",
       "         'phone': 140261,\n",
       "         'record_date': 150000,\n",
       "         'ssn': 142444})"
      ]
     },
     "execution_count": 16,
     "metadata": {},
     "output_type": "execute_result"
    }
   ],
   "source": [
    "from collections import Counter\n",
    "count_field = Counter(List_new)\n",
    "count_field"
   ]
  },
  {
   "cell_type": "code",
   "execution_count": 17,
   "metadata": {
    "collapsed": false
   },
   "outputs": [],
   "source": [
    "Total = len(data)"
   ]
  },
  {
   "cell_type": "markdown",
   "metadata": {},
   "source": [
    "As in Question 2, it is asked to be in percentage format, so the following code will give the frequency in percentage format."
   ]
  },
  {
   "cell_type": "code",
   "execution_count": 18,
   "metadata": {
    "collapsed": false
   },
   "outputs": [],
   "source": [
    "percentage_dict = {}\n",
    "ind = 0\n",
    "for i in Counter(List_new).values():\n",
    "    percentage_dict.update({count_field.keys()[ind]:round((int(i)*100.0/Total),2)})\n",
    "    ind += 1"
   ]
  },
  {
   "cell_type": "code",
   "execution_count": 19,
   "metadata": {
    "collapsed": false
   },
   "outputs": [
    {
     "data": {
      "text/plain": [
       "{'address': 50.13,\n",
       " 'address.city': 40.82,\n",
       " 'address.state': 40.82,\n",
       " 'address.street': 40.82,\n",
       " 'address.zip': 40.82,\n",
       " 'dob': 95.92,\n",
       " 'email': 87.25,\n",
       " 'id': 100.0,\n",
       " 'name': 28.71,\n",
       " 'name.firstname': 70.0,\n",
       " 'name.lastname': 70.0,\n",
       " 'name.middlename': 29.11,\n",
       " 'phone': 93.51,\n",
       " 'record_date': 100.0,\n",
       " 'ssn': 94.96}"
      ]
     },
     "execution_count": 19,
     "metadata": {},
     "output_type": "execute_result"
    }
   ],
   "source": [
    "percentage_dict"
   ]
  },
  {
   "cell_type": "markdown",
   "metadata": {},
   "source": [
    "It is good to visualize the above numbers in the bar plot form."
   ]
  },
  {
   "cell_type": "code",
   "execution_count": 20,
   "metadata": {
    "collapsed": false
   },
   "outputs": [
    {
     "data": {
      "image/png": "[encoded data removed]",
      "text/plain": [
       "<matplotlib.figure.Figure at 0x127972350>"
      ]
     },
     "metadata": {},
     "output_type": "display_data"
    }
   ],
   "source": [
    "import matplotlib.pyplot as plt\n",
    "\n",
    "plt.bar(range(len(percentage_dict)), percentage_dict.values(),width=1, align='center')\n",
    "plt.xticks(range(len(percentage_dict)), list(percentage_dict.keys()),rotation='vertical')\n",
    "\n",
    "plt.show()"
   ]
  },
  {
   "cell_type": "markdown",
   "metadata": {},
   "source": [
    "Here is the top 5 fileds that I am asked in question 2, part (b)."
   ]
  },
  {
   "cell_type": "code",
   "execution_count": 21,
   "metadata": {
    "collapsed": false
   },
   "outputs": [
    {
     "data": {
      "text/plain": [
       "['record_date', 'id', 'dob', 'ssn', 'phone']"
      ]
     },
     "execution_count": 21,
     "metadata": {},
     "output_type": "execute_result"
    }
   ],
   "source": [
    "sorted(percentage_dict, key=percentage_dict.get, reverse=True)[:5]"
   ]
  },
  {
   "cell_type": "markdown",
   "metadata": {},
   "source": [
    "# Question 3"
   ]
  },
  {
   "cell_type": "markdown",
   "metadata": {},
   "source": [
    "In this question, I just consider the fields which has first name. So, the name field checked to be in dictionary format. Then, I extract the first name. If I had more time, I would like to look at the fileds which the first/last/middle name are mixed. The problem in this case is, the first name could be also a last name. \"Ben\" could be first name or middle name or even last name."
   ]
  },
  {
   "cell_type": "code",
   "execution_count": 22,
   "metadata": {
    "collapsed": false
   },
   "outputs": [],
   "source": [
    "List_name = []\n",
    "for line in data:\n",
    "    if 'name' in line.keys():\n",
    "            if type(line['name']) != unicode:\n",
    "                List_name.append(line[\"name\"][\"firstname\"])\n",
    "count_firstnames = Counter(List_name)\n",
    "count_firstnames;"
   ]
  },
  {
   "cell_type": "markdown",
   "metadata": {},
   "source": [
    "Here is the number of distinct first names."
   ]
  },
  {
   "cell_type": "code",
   "execution_count": 23,
   "metadata": {
    "collapsed": false
   },
   "outputs": [
    {
     "data": {
      "text/plain": [
       "690"
      ]
     },
     "execution_count": 23,
     "metadata": {},
     "output_type": "execute_result"
    }
   ],
   "source": [
    "len(count_firstnames.keys())"
   ]
  },
  {
   "cell_type": "markdown",
   "metadata": {},
   "source": [
    "# Question 4\n",
    "We need to be clear about the street name. Here are the two options:\n",
    "> Street name is seperated in address field (address.street)\n",
    "\n",
    "> Street is a unicode and not a dictionary\n",
    "\n",
    "The problem with the first one is, the building number is included in street name. And with the second one, I need to exclude the suite or Apt number from the address. I also checked the US Post website to see other suffixes in the address and I got the followings,\n",
    "\n",
    "Suite, building, Apt, APARTMENT, FLOOR, UNIT, ROOM, DEPARTMENT.\n"
   ]
  },
  {
   "cell_type": "code",
   "execution_count": 24,
   "metadata": {
    "collapsed": false
   },
   "outputs": [
    {
     "data": {
      "text/plain": [
       "u'158 Smith Vista'"
      ]
     },
     "execution_count": 24,
     "metadata": {},
     "output_type": "execute_result"
    }
   ],
   "source": [
    "data[4][\"address\"]['street']"
   ]
  },
  {
   "cell_type": "markdown",
   "metadata": {},
   "source": [
    "Some address's as the following are not clear about the street name. data[1567] and data[100004] are military bases. Based on my experience usually these bases don't have street name and just end up with a post box. For these cases, my code doesn't not show any street name. It calculates the number of them and all the coressponding indices are stored in a list. The future work here, it could be to aggregate some data to recognize if any street name provided with them (As these data are fake so this is for real data scenarios)"
   ]
  },
  {
   "cell_type": "code",
   "execution_count": 25,
   "metadata": {
    "collapsed": false
   },
   "outputs": [
    {
     "data": {
      "text/plain": [
       "{u'address': u'PSC 9231, Box 1622\\nAPO AE 32085-8133',\n",
       " u'dob': u'1958-09-27',\n",
       " u'id': u'1dd0d8ae204441a9b3b31c109a5e6bc7',\n",
       " u'name': {u'firstname': u'Paul', u'lastname': u'Adams'},\n",
       " u'phone': u'115.018.8489x9398',\n",
       " u'record_date': u'2006-05-11T00:47:34',\n",
       " u'ssn': u'xxx-xx-0915'}"
      ]
     },
     "execution_count": 25,
     "metadata": {},
     "output_type": "execute_result"
    }
   ],
   "source": [
    "data[1567]"
   ]
  },
  {
   "cell_type": "code",
   "execution_count": 26,
   "metadata": {
    "collapsed": false
   },
   "outputs": [
    {
     "data": {
      "text/plain": [
       "{u'address': u'USNS Larson\\nFPO AE 97404-8315',\n",
       " u'dob': u'1993-09-06',\n",
       " u'email': u'melissa73@daniel.biz',\n",
       " u'id': u'e9b35bcaa6694916a7728c1f2fd9d1f6',\n",
       " u'name': u'Cheryl Miller',\n",
       " u'phone': u'1-356-210-2232x944',\n",
       " u'record_date': u'2009-12-13T19:40:11',\n",
       " u'ssn': u'xxx-xx-0154'}"
      ]
     },
     "execution_count": 26,
     "metadata": {},
     "output_type": "execute_result"
    }
   ],
   "source": [
    "data[100004]"
   ]
  },
  {
   "cell_type": "markdown",
   "metadata": {},
   "source": [
    "Also, in same cases such as data[1569] the street filed is \"61541 Walker Junctions\". I assumed the street name is \"Walker Junctions\" as I am not sure if \"Junctions\" is a common suffix to use in the address or not."
   ]
  },
  {
   "cell_type": "code",
   "execution_count": 27,
   "metadata": {
    "collapsed": false
   },
   "outputs": [
    {
     "data": {
      "text/plain": [
       "{u'address': {u'city': u'Mirandafort',\n",
       "  u'state': u'TN',\n",
       "  u'street': u'61541 Walker Junctions',\n",
       "  u'zip': u'66309'},\n",
       " u'dob': u'1970-06-23',\n",
       " u'email': u'ramirezcameron@gmail.com',\n",
       " u'id': u'e341ab6cc9dd4356b1f2533ae5935e27',\n",
       " u'name': {u'firstname': u'Angela', u'lastname': u'Odom'},\n",
       " u'phone': u'(983)309-7972',\n",
       " u'record_date': u'2015-11-25T18:31:52',\n",
       " u'ssn': u'xxx-xx-6781'}"
      ]
     },
     "execution_count": 27,
     "metadata": {},
     "output_type": "execute_result"
    }
   ],
   "source": [
    "data[1569]"
   ]
  },
  {
   "cell_type": "markdown",
   "metadata": {},
   "source": [
    "In the following, I used \"re\" module to find the patterns. The for loop goes over the lines. I defined 3 different flags.\n",
    "\n",
    "> flag 0: (The default) It means the pattern of the address in this line was not captured by the code. This is a sanity check to make sure code works fine.\n",
    "\n",
    "> flag 1: It means the pattern is captured.\n",
    "\n",
    "> flag 2: If the line doesn't have address field.\n",
    "\n",
    "> flag 3: the address belongs to the military base(Expalined before).\n",
    "\n",
    "Then we have two group of lines. The ones where the \"address.street\" is defined and the ones with just \"address\" field. Actually, for both cases the address string is splited to look for APO/FPO/DPO strings (military structures). In a case of not observing the aformentioned strings, it will be one of the forms,\n",
    "\n",
    "> '\\d+ (.+\\s?) [!Suite|building|Apt|APARTMENT|FLOOR|UNIT|ROOM|DEPARTMENT|\\n]'\n",
    "\n",
    "> '\\d+ (.+\\s?)'\n",
    "\n",
    "The first one is looking for any combinations where the builiding number is followed by some words. And it should be stopped when it reaches some suffixes in the address (Suite, ...) (These suffixes can be found in USPS website)\n",
    "\n",
    "In the latter pattern, as the suffix words are not observed, then it chooses just words after a sting of numbers.\n",
    "\n",
    "By having more time, I could think of a more efficent code and also consider the cases where \"Parkway\", \"Junction\", ... appears in the street name. \n"
   ]
  },
  {
   "cell_type": "code",
   "execution_count": 28,
   "metadata": {
    "collapsed": false
   },
   "outputs": [],
   "source": [
    "import re\n",
    "\n",
    "List_Street = []\n",
    "unsuccessful_address = []\n",
    "military_address = []\n",
    "suffix_list = ['Suite' , 'building' , 'Apt.' , 'APARTMENT' , 'FLOOR' , 'UNIT', 'ROOM', 'DEPARTMENT']\n",
    "counter = 0\n",
    "\n",
    "\n",
    "for line in data:\n",
    "    flag = 0\n",
    "    if 'address' in line.keys():\n",
    "            if type(line['address']) != unicode:\n",
    "                str1 = line[\"address\"][\"street\"]\n",
    "                b = str1.split()\n",
    "                if ('FPO' not in b) and ('APO' not in b) and ('DPO' not in b):   # Military bases\n",
    "                    if any(i in b for i in suffix_list):\n",
    "                        m = re.search('\\d+ (.+\\s?) [!Suite|building|Apt|APARTMENT|FLOOR|UNIT|ROOM|DEPARTMENT|\\n]', str1)\n",
    "                        flag = 1\n",
    "                    else:\n",
    "                        m = re.search('\\d+ (.+\\s?)', str1) \n",
    "                        flag = 1\n",
    "                else:\n",
    "                    flag = 3\n",
    "            else:\n",
    "                str1 = line[\"address\"]\n",
    "                mstr = str(str1)\n",
    "                b = mstr.split()\n",
    "                if ('FPO' not in b) and ('APO' not in b) and ('DPO' not in b):\n",
    "                    str2 = str1.splitlines()[0]\n",
    "                    b = str2.split()\n",
    "                    if any(i in b for i in suffix_list):\n",
    "                        m = re.search('\\d+ (.+\\s?) [!Suite|building|Apt|APARTMENT|FLOOR|UNIT|ROOM|DEPARTMENT|\\n]', str2)\n",
    "                        flag = 1\n",
    "                    else:\n",
    "                        m = re.search('\\d+ (.+\\s?)', str2)\n",
    "                        flag = 1\n",
    "                else:\n",
    "                    flag = 3\n",
    "    else:\n",
    "        flag = 2\n",
    "    if flag == 1:\n",
    "        Street_name = m.group(1)\n",
    "        List_Street.append(Street_name)\n",
    "    elif flag == 0:\n",
    "        unsuccessful_address.append(counter)\n",
    "    elif flag == 3:\n",
    "        military_address.append(counter)\n",
    "    counter += 1\n",
    "    "
   ]
  },
  {
   "cell_type": "markdown",
   "metadata": {},
   "source": [
    "The total number of distinct street names are as below."
   ]
  },
  {
   "cell_type": "code",
   "execution_count": 29,
   "metadata": {
    "collapsed": false
   },
   "outputs": [
    {
     "data": {
      "text/plain": [
       "79999"
      ]
     },
     "execution_count": 29,
     "metadata": {},
     "output_type": "execute_result"
    }
   ],
   "source": [
    "count_streetname = Counter(List_Street)\n",
    "len(count_streetname)"
   ]
  },
  {
   "cell_type": "code",
   "execution_count": 30,
   "metadata": {
    "collapsed": false
   },
   "outputs": [],
   "source": [
    "List_Street;"
   ]
  },
  {
   "cell_type": "markdown",
   "metadata": {},
   "source": [
    "The following command shows the number of military bases' addresses that appeared in data. If I had more time, I would like to sepearate the ones that might be a street name in it."
   ]
  },
  {
   "cell_type": "code",
   "execution_count": 31,
   "metadata": {
    "collapsed": false,
    "scrolled": true
   },
   "outputs": [
    {
     "data": {
      "text/plain": [
       "8050"
      ]
     },
     "execution_count": 31,
     "metadata": {},
     "output_type": "execute_result"
    }
   ],
   "source": [
    "len(military_address)"
   ]
  },
  {
   "cell_type": "markdown",
   "metadata": {},
   "source": [
    "# Question 5"
   ]
  },
  {
   "cell_type": "code",
   "execution_count": 32,
   "metadata": {
    "collapsed": false
   },
   "outputs": [
    {
     "data": {
      "text/plain": [
       "{u'address': {u'city': u'North Melissachester',\n",
       "  u'state': u'HI',\n",
       "  u'street': u'51125 Tyler Fork Suite 810',\n",
       "  u'zip': u'02722'},\n",
       " u'email': u'ann78@gmail.com',\n",
       " u'id': u'4a23cf00ab5d4e98ae28334ac0ed2669',\n",
       " u'name': {u'firstname': u'Beth', u'lastname': u'May'},\n",
       " u'phone': u'177-175-7202',\n",
       " u'record_date': u'2012-10-21T19:16:12',\n",
       " u'ssn': u'xxx-xx-4341'}"
      ]
     },
     "execution_count": 32,
     "metadata": {},
     "output_type": "execute_result"
    }
   ],
   "source": [
    "data[100202]"
   ]
  },
  {
   "cell_type": "code",
   "execution_count": 33,
   "metadata": {
    "collapsed": false
   },
   "outputs": [
    {
     "data": {
      "text/plain": [
       "u'177-175-7202'"
      ]
     },
     "execution_count": 33,
     "metadata": {},
     "output_type": "execute_result"
    }
   ],
   "source": [
    "str2 = data[100202]['phone']\n",
    "str2"
   ]
  },
  {
   "cell_type": "markdown",
   "metadata": {},
   "source": [
    "Different patterns in phone number:\n",
    "\n",
    ">  \n",
    "\n",
    "> 888 888 8888\n",
    "\n",
    "> 888.888.8888\n",
    "\n",
    "> (888) 888-8888\n",
    "\n",
    "> 1-888-888-8888\n",
    "\n",
    "> 888-888-8888-8888\n",
    "\n",
    "> 888-888-8888x8888\n",
    "\n",
    "> 888-888-8888 ext. 8888"
   ]
  },
  {
   "cell_type": "markdown",
   "metadata": {},
   "source": [
    "The following is my approach. The phone patterns could be any form as above. So, I am dealing with a combination of 3 by 3 by 4 number. By knowing the particular length of the corresponding string, the pattern is '(\\d{3})\\D*(\\d{3})\\D*(\\d{4})\\D*(\\d*)$' . \n",
    "\n",
    "> First (\\d{3}) is for the area code\n",
    "\n",
    "> \\D* between digits could be anything except numbers (\\D). And having (*) shows it could be any size.\n",
    "\n",
    "> The second set of digits (\\d{3}) and the last one is (\\d{4}). \n",
    "\n",
    "> The extention code is considered in (\\d*). As we consider (*) it could be zero or non-zero amount of digits."
   ]
  },
  {
   "cell_type": "code",
   "execution_count": 34,
   "metadata": {
    "collapsed": false
   },
   "outputs": [],
   "source": [
    "import re\n",
    "\n",
    "List_AreaCode = []\n",
    "\n",
    "for line in data:\n",
    "    if 'phone' in line.keys():\n",
    "        str1 = line[\"phone\"]\n",
    "        m = re.search(r'(\\d{3})\\D*(\\d{3})\\D*(\\d{4})\\D*(\\d*)$', str1) \n",
    "        area_id = m.group(1)\n",
    "        List_AreaCode.append(area_id)\n",
    "        \n",
    "count_firstnames = Counter(List_AreaCode)       "
   ]
  },
  {
   "cell_type": "code",
   "execution_count": 35,
   "metadata": {
    "collapsed": false
   },
   "outputs": [],
   "source": [
    "count_firstnames;"
   ]
  },
  {
   "cell_type": "markdown",
   "metadata": {},
   "source": [
    "Here are the top 5 area codes,"
   ]
  },
  {
   "cell_type": "code",
   "execution_count": 36,
   "metadata": {
    "collapsed": false
   },
   "outputs": [
    {
     "data": {
      "text/plain": [
       "[u'002', u'022', u'019', u'054', u'062']"
      ]
     },
     "execution_count": 36,
     "metadata": {},
     "output_type": "execute_result"
    }
   ],
   "source": [
    "sorted(count_firstnames, key=count_firstnames.get, reverse=True)[:5]"
   ]
  }
 ],
 "metadata": {
  "anaconda-cloud": {},
  "kernelspec": {
   "display_name": "Python [conda env:my_projects_env]",
   "language": "python",
   "name": "conda-env-my_projects_env-py"
  },
  "language_info": {
   "codemirror_mode": {
    "name": "ipython",
    "version": 2
   },
   "file_extension": ".py",
   "mimetype": "text/x-python",
   "name": "python",
   "nbconvert_exporter": "python",
   "pygments_lexer": "ipython2",
   "version": "2.7.13"
  }
 },
 "nbformat": 4,
 "nbformat_minor": 2
}
